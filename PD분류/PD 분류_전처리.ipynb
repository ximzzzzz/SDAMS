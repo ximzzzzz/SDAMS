{
 "cells": [
  {
   "cell_type": "code",
   "execution_count": null,
   "metadata": {},
   "outputs": [],
   "source": [
    "%matplotlib\n",
    "import sys\n",
    "import os\n",
    "from io import StringIO\n",
    "sys.path.append('./DemoPD/Common')\n",
    "sys.path.append('./TestData')\n",
    "import tensorflow as tf\n",
    "import pandas as pd\n",
    "import matplotlib\n",
    "import matplotlib.pyplot as plt\n",
    "import datetime \n",
    "import numpy as np\n",
    "from getDataPD import runSQL_Insert, getDataPD, getMlData, runMlSQL_Insert\n",
    "from sklearn.model_selection import train_test_split\n",
    "import io\n",
    "from PIL import Image"
   ]
  },
  {
   "cell_type": "markdown",
   "metadata": {},
   "source": [
    "## 데이터불러오기 (Class 별 500)\n",
    "- 업체로 부터 받은 corona, surface, void 데이터가 적어 전체 좌표에서 랜덤하게 x,y 좌표를 이동하며(coordiate translate) 인조데이터를 생성함\n",
    "- 생성한 인조데이터에서 class 별 500 개씩 샘플링하여 학습데이터로 사용"
   ]
  },
  {
   "cell_type": "code",
   "execution_count": null,
   "metadata": {},
   "outputs": [],
   "source": [
    "#void\n",
    "void_sql = \" SELECT * \" +\\\n",
    "      \" FROM pd_classf_train_data \" +\\\n",
    "      \" WHERE DATA_SERNO between 1 and 500\"\n",
    "void = getMlData(void_sql)\n",
    "\n",
    "#surface\n",
    "surface_sql = \" SELECT * \" +\\\n",
    "      \" FROM pd_classf_train_data \" +\\\n",
    "      \" WHERE DATA_SERNO between 8344 and 8843\"\n",
    "surface = getMlData(surface_sql)\n",
    "\n",
    "#coronaP\n",
    "coronaP_sql = \" SELECT * \" +\\\n",
    "      \" FROM pd_classf_train_data \" +\\\n",
    "      \" WHERE DATA_SERNO between 16687 and 17186\"\n",
    "coronaP = getMlData(coronaP_sql)\n",
    "\n",
    "#coronaN\n",
    "coronaN_sql = \" SELECT * \" +\\\n",
    "      \" FROM pd_classf_train_data \" +\\\n",
    "      \" WHERE DATA_SERNO between 20531 and 21030\"\n",
    "coronaN = getMlData(coronaN_sql)"
   ]
  },
  {
   "cell_type": "markdown",
   "metadata": {},
   "source": [
    "## 데이터 전처리\n",
    "- csv 좌표데이터를 시각화 이미지로 만들기위해 데이터프레임으로 변환하여 PD 한 건 당 하나의 row로 저장"
   ]
  },
  {
   "cell_type": "code",
   "execution_count": null,
   "metadata": {},
   "outputs": [],
   "source": [
    "#void preprocessing\n",
    "void_list = []\n",
    "for index, row in void.iterrows():\n",
    "    void_list.append(row['PRPD_CONT'])\n",
    "    \n",
    "void_prpd=[]\n",
    "columns = ['X', 'Y', 'CNT']\n",
    "for i in range(len(void_list)): \n",
    "    prpd_ = pd.read_csv(StringIO(void_list[i]), delimiter = ',', encoding = 'utf-8', names = columns)\n",
    "    void_prpd.append(prpd_)"
   ]
  },
  {
   "cell_type": "code",
   "execution_count": null,
   "metadata": {},
   "outputs": [],
   "source": [
    "#surface preprocessing\n",
    "surface_list = []\n",
    "for index, row in surface.iterrows():\n",
    "    surface_list.append(row['PRPD_CONT'])\n",
    "    \n",
    "surface_prpd=[]\n",
    "columns = ['X', 'Y', 'CNT']\n",
    "for i in range(len(surface_list)): \n",
    "    prpd_ = pd.read_csv(StringIO(surface_list[i]), delimiter = ',', encoding = 'utf-8', names = columns)\n",
    "    surface_prpd.append(prpd_)"
   ]
  },
  {
   "cell_type": "code",
   "execution_count": null,
   "metadata": {},
   "outputs": [],
   "source": [
    "#coronaP preprocessing\n",
    "coronaP_list = []\n",
    "for index, row in coronaP.iterrows():\n",
    "    coronaP_list.append(row['PRPD_CONT'])\n",
    "    \n",
    "coronaP_prpd=[]\n",
    "columns = ['X', 'Y', 'CNT']\n",
    "for i in range(len(coronaP_list)): \n",
    "    prpd_ = pd.read_csv(StringIO(coronaP_list[i]), delimiter = ',', encoding = 'utf-8', names = columns)\n",
    "    coronaP_prpd.append(prpd_)"
   ]
  },
  {
   "cell_type": "code",
   "execution_count": null,
   "metadata": {},
   "outputs": [],
   "source": [
    "#coronaN preprocessing\n",
    "coronaN_list = []\n",
    "for index, row in coronaN.iterrows():\n",
    "    coronaN_list.append(row['PRPD_CONT'])\n",
    "    \n",
    "coronaN_prpd=[]\n",
    "columns = ['X', 'Y', 'CNT']\n",
    "for i in range(len(coronaN_list)): \n",
    "    prpd_ = pd.read_csv(StringIO(coronaN_list[i]), delimiter = ',', encoding = 'utf-8', names = columns)\n",
    "    coronaN_prpd.append(prpd_)"
   ]
  },
  {
   "cell_type": "markdown",
   "metadata": {},
   "source": [
    "- 클래스별 데이터프레임을 이미지로 파일로 변환 후 다시 행렬로 변환(grey scale)"
   ]
  },
  {
   "cell_type": "code",
   "execution_count": null,
   "metadata": {},
   "outputs": [],
   "source": [
    "data = []\n",
    "for j in [void_prpd, surface_prpd, coronaP_prpd, coronaN_prpd]:\n",
    "    for i in range(len(j)):\n",
    "        # make an agg figure\n",
    "        plt.figure(figsize=(3,2))\n",
    "        plt.scatter(void_prpd[49]['X'], void_prpd[49]['Y'], s=0.05);\n",
    "        plt.ylim(0,360)\n",
    "        plt.xlim(0,360)\n",
    "     \n",
    "        buf = io.BytesIO()\n",
    "        plt.savefig(buf, format='png')\n",
    "        buf.seek(0)\n",
    "        im =np.array(Image.open(buf).convert('L'))\n",
    "        data.append(im)\n",
    "        plt.clf();"
   ]
  },
  {
   "cell_type": "markdown",
   "metadata": {},
   "source": [
    "- numpy 행렬 저장"
   ]
  },
  {
   "cell_type": "code",
   "execution_count": null,
   "metadata": {},
   "outputs": [],
   "source": [
    "data_ = np.array(data)\n",
    "data_.shape\n",
    "\n",
    "#저장\n",
    "np.save('dataset',data)\n",
    "\n",
    "#로드\n",
    "data = np.load('dataset.npy')\n",
    "data.shape"
   ]
  }
 ],
 "metadata": {
  "kernelspec": {
   "display_name": "Python 3",
   "language": "python",
   "name": "python3"
  },
  "language_info": {
   "codemirror_mode": {
    "name": "ipython",
    "version": 3
   },
   "file_extension": ".py",
   "mimetype": "text/x-python",
   "name": "python",
   "nbconvert_exporter": "python",
   "pygments_lexer": "ipython3",
   "version": "3.7.5"
  }
 },
 "nbformat": 4,
 "nbformat_minor": 4
}
